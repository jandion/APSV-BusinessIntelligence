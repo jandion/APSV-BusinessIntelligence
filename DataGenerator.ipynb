{
 "cells": [
  {
   "cell_type": "code",
   "execution_count": 98,
   "metadata": {},
   "outputs": [],
   "source": [
    "\n",
    "import pandas as pd\n",
    "import numpy as np\n",
    "import datetime\n",
    "import random\n",
    "import scipy.stats as stats\n",
    "import matplotlib.pyplot as plt\n",
    "rnd = random.Random( 42 )"
   ]
  },
  {
   "cell_type": "code",
   "execution_count": 99,
   "metadata": {},
   "outputs": [],
   "source": [
    "base_speed = [ 60, 100, 140 ]\n",
    "distances = [ 100, 60, 150, 100, 120, 250]\n",
    "max_cargo = [ 100, 50, 50 ]\n",
    "last_date = [ datetime.datetime(2022, 1, 1), datetime.datetime(2022, 1, 1), datetime.datetime(2022, 1, 1) ]\n",
    "load_speed = 15 # seconds per unit of cargo\n",
    "unload_speed = 10 # seconds per unit of cargo"
   ]
  },
  {
   "cell_type": "code",
   "execution_count": 100,
   "metadata": {},
   "outputs": [],
   "source": [
    "def calculate_departure( tentative_date, train_id ):\n",
    "    if tentative_date.weekday() == 6:\n",
    "        tentative_date += datetime.timedelta( days = 1 )\n",
    "    if tentative_date.hour > 10 and tentative_date.hour < 16 and train_id == 0:\n",
    "        tentative_date = tentative_date.replace( hour = 16, minute = 0, second = 0 )\n",
    "    else: \n",
    "        tentative_date = tentative_date.replace( hour = 10, minute = 0, second = 0 )\n",
    "    while tentative_date in departures_used:\n",
    "        tentative_date += datetime.timedelta( days = 1 )\n",
    "        if tentative_date.weekday() == 6:\n",
    "            tentative_date += datetime.timedelta( days = 1 )\n",
    "        if tentative_date.hour == 16:\n",
    "            tentative_date = tentative_date.replace( hour = 10, minute = 0, second = 0 )\n",
    "    departures_used.add( tentative_date )\n",
    "    return tentative_date\n",
    "\n",
    "def generate_cargo( train_id ):\n",
    "    return rnd.randint( 30, max_cargo[train_id] )\n",
    "\n",
    "def cargo_deviation():\n",
    "    return stats.rayleigh.rvs( scale = 0.5 ) / 4 + .85\n",
    "def travel_deviation():\n",
    "    return stats.rayleigh.rvs( scale = 0.5 ) / 4 + .85\n",
    "def load_deviation(train_id, cargo):\n",
    "    return (max_cargo[train_id] - cargo) / max_cargo[train_id] * 0.25 + 1\n",
    "    \n"
   ]
  },
  {
   "cell_type": "code",
   "execution_count": 101,
   "metadata": {},
   "outputs": [],
   "source": [
    "data = []\n",
    "departures_used = set()\n",
    "for i in range( 500 ):\n",
    "    for train_id in range(3):\n",
    "        trip_id = \"{}_{}\".format( train_id, i )\n",
    "        last_date[train_id] = calculate_departure(last_date[train_id], train_id)\n",
    "        if last_date[train_id].year > 2022: continue\n",
    "        data.append( [ trip_id, train_id, last_date[train_id], 0, \"station_A\", \"Comienzo de ruta\"] )\n",
    "        cargo = generate_cargo(train_id)\n",
    "        if last_date[train_id].weekday() == 5:\n",
    "            cargo = int(cargo*0.6)\n",
    "        last_date[train_id] += datetime.timedelta( seconds = int(cargo * load_speed * cargo_deviation()) )\n",
    "        data.append( [ trip_id, train_id, last_date[train_id], cargo, \"station_A\", \"Final carga\"] )\n",
    "        data.append( [ trip_id, train_id, last_date[train_id], cargo, \"station_A\", \"Salida de vagones\"] )\n",
    "\n",
    "        for station_indx, station_id in enumerate(\"BCDEFG\"):\n",
    "            last_date[train_id] += datetime.timedelta( seconds = int(3600*distances[station_indx] * travel_deviation() * load_deviation(train_id,cargo) / base_speed[train_id]) )\n",
    "            data.append( [ trip_id, train_id, last_date[train_id], cargo, \"station_{}\".format(station_id), \"Llegada de vagones\" ] )\n",
    "            unload = rnd.randint( 0, cargo )\n",
    "            last_date[train_id] += datetime.timedelta( seconds = int(unload * unload_speed * cargo_deviation()) )\n",
    "            cargo -= unload\n",
    "            data.append( [ trip_id, train_id, last_date[train_id], cargo, \"station_{}\".format(station_id), \"Descarga de vagones\" ] )\n",
    "            if station_id == \"G\":\n",
    "                data.append( [ trip_id, train_id, last_date[train_id], cargo, \"station_{}\".format(station_id), \"Final de ruta\" ] )\n",
    "                last_date[train_id] += datetime.timedelta( seconds = int(3600*sum(distances) * travel_deviation() / base_speed[train_id]) )\n",
    "            else:\n",
    "                data.append( [ trip_id, train_id, last_date[train_id], cargo, \"station_{}\".format(station_id), \"Salida de vagones\" ] )\n",
    "df = pd.DataFrame( data, columns = [ \"trip_id\", \"train_id\", \"date\", \"cargo\", \"station_id\", \"event\" ] )"
   ]
  },
  {
   "cell_type": "code",
   "execution_count": 102,
   "metadata": {},
   "outputs": [
    {
     "data": {
      "text/plain": [
       "<Axes: >"
      ]
     },
     "execution_count": 102,
     "metadata": {},
     "output_type": "execute_result"
    },
    {
     "data": {
      "image/png": "[encoded data removed]",
      "text/plain": [
       "<Figure size 640x480 with 1 Axes>"
      ]
     },
     "metadata": {},
     "output_type": "display_data"
    }
   ],
   "source": [
    "df[df.event== \"Comienzo de ruta\"].date.dt.hour.hist()"
   ]
  },
  {
   "cell_type": "code",
   "execution_count": 104,
   "metadata": {},
   "outputs": [
    {
     "data": {
      "text/plain": [
       "(array([119., 371., 526., 627., 668., 618., 581., 436., 372., 254., 173.,\n",
       "        104.,  70.,  28.,  27.,   8.,  11.,   4.,   1.,   2.]),\n",
       " array([0.85087013, 0.87864103, 0.90641194, 0.93418285, 0.96195376,\n",
       "        0.98972467, 1.01749558, 1.04526649, 1.0730374 , 1.10080831,\n",
       "        1.12857922, 1.15635013, 1.18412104, 1.21189195, 1.23966286,\n",
       "        1.26743377, 1.29520468, 1.32297559, 1.3507465 , 1.37851741,\n",
       "        1.40628832]),\n",
       " <BarContainer object of 20 artists>)"
      ]
     },
     "execution_count": 104,
     "metadata": {},
     "output_type": "execute_result"
    },
    {
     "data": {
      "image/png": "[encoded data removed]",
      "text/plain": [
       "<Figure size 640x480 with 1 Axes>"
      ]
     },
     "metadata": {},
     "output_type": "display_data"
    }
   ],
   "source": [
    "tst = [cargo_deviation() for i in range(5000)]\n",
    "# print distribution\n",
    "plt.hist( tst, bins = 20 )"
   ]
  },
  {
   "cell_type": "code",
   "execution_count": null,
   "metadata": {},
   "outputs": [],
   "source": []
  },
  {
   "cell_type": "markdown",
   "metadata": {},
   "source": [
    "# Questions\n",
    "\n",
    "- How many records are there in the dataset?\n",
    "- How many columns are there in the dataset?\n",
    "\n",
    "---\n",
    "\n",
    "- How many trains are there in the dataset?\n",
    "- How many stations are there in the dataset?\n",
    "- How many trips are there in the dataset?\n",
    "\n",
    "---\n",
    "\n",
    "- How long lasted the shortest trip?\n",
    "- How long lasted the longest trip?\n",
    "- What is the average trip duration?\n",
    "\n",
    "---\n",
    "\n",
    "- What is the average time to load a package in a train?\n",
    "- What is the average time to unload a package in a train?\n",
    "\n",
    "---\n",
    "\n",
    "- How many packages were transported in total?\n",
    "- How many packages were transported in average per train?\n",
    "- What was the maximum number of packages transported in a train?\n",
    "- What was the minimum number of packages transported in a train?\n",
    "- What was the average number of packages transported in a train?\n",
    "\n",
    "---\n",
    "\n",
    "- How many packages were received in station X?\n",
    "- What was the average number of packages received in station X?\n",
    "- What was the maximum number of packages received in station X?\n",
    "- What was the minimum number of packages received in station X?\n",
    "\n",
    "---\n",
    "\n",
    "- What was the average duration of a trip from station X to station Y?\n",
    "- What was the maximum duration of a trip from station X to station Y?\n",
    "- What was the minimum duration of a trip from station X to station Y?\n",
    "\n",
    "---\n",
    "\n",
    "- Which train transported the most packages?\n",
    "- Which train transported the least packages?\n",
    "- Which train made more trips?\n",
    "- Which train made less trips?\n",
    "- Which is the fastest train?\n",
    "- Which is the slowest train?\n",
    "\n",
    "---\n",
    "\n",
    "- How many trips were made in January?\n",
    "- How many pacakges were transported on Mondays?\n",
    "\n",
    "\n",
    "\n"
   ]
  },
  {
   "cell_type": "markdown",
   "metadata": {},
   "source": []
  }
 ],
 "metadata": {
  "kernelspec": {
   "display_name": "Python 3",
   "language": "python",
   "name": "python3"
  },
  "language_info": {
   "codemirror_mode": {
    "name": "ipython",
    "version": 3
   },
   "file_extension": ".py",
   "mimetype": "text/x-python",
   "name": "python",
   "nbconvert_exporter": "python",
   "pygments_lexer": "ipython3",
   "version": "3.10.6"
  }
 },
 "nbformat": 4,
 "nbformat_minor": 2
}
