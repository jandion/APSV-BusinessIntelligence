{
 "cells": [
  {
   "cell_type": "markdown",
   "metadata": {},
   "source": [
    "# Python\n",
    "Python is a general propose programing language. In these workshops we will use Python 3.8 or higher. Python is an interpreted language as JavaScript and in opposition to Java or C which need to be compiled to run; this implies that some of the errors detected during the source compilation will not be noticed and will generate exceptions during execution.\n",
    "\n",
    "In this notebook we are going to see some very basic examples of how to use Python and some of its libraries, to get a detailed view of the language check https://docs.python.org/3/tutorial/\n",
    "\n",
    "## Variables and types\n",
    "Python is a strongly typed language. Python has 4 basic types: integer number `int`, decimal numbers `float`, booleans `bool` and text strings `str`. When we define a variable, we will not specify the type."
   ]
  },
  {
   "cell_type": "code",
   "execution_count": null,
   "metadata": {},
   "outputs": [],
   "source": [
    "# This is a comment\n",
    "# Comments starts with the character #\n",
    "\n",
    "# This frame is a cell which can be executed individually.\n",
    "# To execute a cell press Ctrl+Enter or press the run button in the tools menu\n",
    "\n",
    "print(\"Hello World!\")"
   ]
  },
  {
   "cell_type": "code",
   "execution_count": null,
   "metadata": {},
   "outputs": [],
   "source": [
    "# An integer\n",
    "myInt = 10\n",
    "\n",
    "# A float value\n",
    "myFloat = 3.14\n",
    "\n",
    "# A boolean\n",
    "myBool = True\n",
    "\n",
    "# A string, you can use simple quotes ' or double quotes \"\n",
    "myStr = \"example1\"\n",
    "myStr2 = 'example2'\n"
   ]
  },
  {
   "cell_type": "markdown",
   "metadata": {},
   "source": [
    "To write in the standard output, in other words to print something, we will use the function `print()`"
   ]
  },
  {
   "cell_type": "code",
   "execution_count": null,
   "metadata": {},
   "outputs": [],
   "source": [
    "print(myInt)\n",
    "print(myFloat)\n",
    "print(myBool)\n",
    "print(myStr)\n",
    "print(myStr2)\n",
    "\n",
    "# As Python is strongly typed variables will not change its type automatically, so, for example, if we want to concatenate\n",
    "# an int with an str, we have to convert the int into a str first\n",
    "print(myStr + \" \" + str(myInt))"
   ]
  },
  {
   "cell_type": "markdown",
   "metadata": {},
   "source": [
    "## Basic operations"
   ]
  },
  {
   "cell_type": "code",
   "execution_count": null,
   "metadata": {},
   "outputs": [],
   "source": [
    "# Add\n",
    "print(3 + 5)\n",
    "\n",
    "# Subtract\n",
    "print(3 - 5)\n",
    "\n",
    "# Multiply\n",
    "print(3 * 5)\n",
    "\n",
    "# Divide\n",
    "print(3 / 5)\n",
    "\n",
    "# Power \n",
    "print(3 ** 5)"
   ]
  },
  {
   "cell_type": "markdown",
   "metadata": {},
   "source": [
    "## Lists"
   ]
  },
  {
   "cell_type": "code",
   "execution_count": null,
   "metadata": {},
   "outputs": [],
   "source": [
    "myList = [1, 2, 3, True, \"APSV\"]\n",
    "\n",
    "# Access an element in certain position\n",
    "print(myList[0])\n",
    "\n",
    "# We can access elements at the end by using negative index. -1 is the last value, -2 the previous one, etc\n",
    "print(myList[-1])\n",
    "\n",
    "# We can obtain a sublist using this syntax myList[start:end]\n",
    "# If start is not specified the beginning of the list will be used, analogously with end and the end of the list\n",
    "print(myList[0:2])\n",
    "print(myList[-3:-1])\n",
    "print(myList[:2])\n",
    "print(myList[2:])"
   ]
  },
  {
   "cell_type": "code",
   "execution_count": null,
   "metadata": {},
   "outputs": [],
   "source": [
    "# To modify a value\n",
    "myList[0] = 4\n",
    "print(myList)\n",
    "\n",
    "# To add elements at the end of the list\n",
    "myList.append(\"CRIS\")\n",
    "print(myList)\n",
    "\n",
    "# To add elements into a certain position\n",
    "myList.insert(1,23)\n",
    "print(myList)\n",
    "\n",
    "# To remove the last element\n",
    "lastElement = myList.pop()\n",
    "print(myList)\n",
    "\n",
    "# To remove a certain element\n",
    "del(myList[1])\n",
    "print(myList)\n",
    "\n",
    "# To remove an element by value\n",
    "myList.remove(3)\n",
    "print(myList)\n",
    "\n",
    "# To obtain the length of any collection\n",
    "print(len(myList))"
   ]
  },
  {
   "cell_type": "markdown",
   "metadata": {},
   "source": [
    "## Dictionaries\n",
    "Dictionaries are collections of key-value pairs. These collections can be accessed like a list but using the keys instead of the indexes.\n",
    "\n",
    "The values can have different types, even is common to have dictionaries inside dictionaries (eg. to work with a json)."
   ]
  },
  {
   "cell_type": "code",
   "execution_count": null,
   "metadata": {},
   "outputs": [],
   "source": [
    "# Dictionaries are marked with {} characters\n",
    "# The syntax to set a key-value pair is \"key\": \"value\"\n",
    "myDict = { \"key\": \"value\", \"APSV\": 23, \"arr\" : [1,2,3] }\n",
    "print(myDict)\n",
    "\n",
    "# Access by key\n",
    "print(myDict[\"arr\"])"
   ]
  },
  {
   "cell_type": "markdown",
   "metadata": {},
   "source": [
    "## Boolean operations"
   ]
  },
  {
   "cell_type": "code",
   "execution_count": null,
   "metadata": {},
   "outputs": [],
   "source": [
    "# AND\n",
    "print(myInt < 5 and myBool)\n",
    "\n",
    "# OR\n",
    "print(myInt > 5 or myBool)\n",
    "\n",
    "# Negate\n",
    "print(not myBool)\n",
    "\n",
    "# Check element in list\n",
    "print(4 in myList)"
   ]
  },
  {
   "cell_type": "markdown",
   "metadata": {},
   "source": [
    "## Flow control\n",
    "In Python, code blocks are defined by their indentation level in opposition of other languages which surrounds the blocks with `{}`."
   ]
  },
  {
   "cell_type": "code",
   "execution_count": null,
   "metadata": {},
   "outputs": [],
   "source": [
    "# Conditional\n",
    "if myInt > 5:\n",
    "    print(\"myInt is greater than 5\")"
   ]
  },
  {
   "cell_type": "code",
   "execution_count": null,
   "metadata": {},
   "outputs": [],
   "source": [
    "# Conditional with else\n",
    "if myInt < 5:\n",
    "    print(\"myInt is less than 5\")\n",
    "else:\n",
    "    print(\"myInt is greater than 5\")"
   ]
  },
  {
   "cell_type": "code",
   "execution_count": null,
   "metadata": {},
   "outputs": [],
   "source": [
    "# Nested conditionals\n",
    "if myInt < 5:\n",
    "    print(\"myInt is less than 5\")\n",
    "elif myInt < 15:\n",
    "    print(\"myInt is less than 15\")\n",
    "else:\n",
    "    print(\"myInt is greater than 15\")"
   ]
  },
  {
   "cell_type": "code",
   "execution_count": null,
   "metadata": {},
   "outputs": [],
   "source": [
    "# For loop to iterate over list elements\n",
    "for i in myList:\n",
    "    print(i)"
   ]
  },
  {
   "cell_type": "code",
   "execution_count": null,
   "metadata": {},
   "outputs": [],
   "source": [
    "# For loop to iterate over values in a range\n",
    "for i in range(len(myList)):\n",
    "    print(str(i) + \" - \" + str(myList[i]))"
   ]
  },
  {
   "cell_type": "code",
   "execution_count": null,
   "metadata": {},
   "outputs": [],
   "source": [
    "# While loop\n",
    "a = 0\n",
    "while a < 10:\n",
    "    print(a)\n",
    "    a += 1"
   ]
  },
  {
   "cell_type": "code",
   "execution_count": null,
   "metadata": {},
   "outputs": [],
   "source": [
    "# Break and continue\n",
    "a = 0\n",
    "while True:\n",
    "    a += 1\n",
    "    if a > 10:\n",
    "        break\n",
    "    if a % 2 == 0:\n",
    "        continue\n",
    "    print(a, \"is odd\")"
   ]
  },
  {
   "cell_type": "markdown",
   "metadata": {},
   "source": [
    "# Methods\n",
    "To define a method in python we will use the following syntax `def methodName(arg1, arg2 = \"default value\", arg3)`."
   ]
  },
  {
   "cell_type": "code",
   "execution_count": null,
   "metadata": {},
   "outputs": [],
   "source": [
    "def sumValues(a, b=1):\n",
    "    return a + b\n",
    "\n",
    "print(sumValues(2,3))\n",
    "print(sumValues(2))"
   ]
  },
  {
   "cell_type": "markdown",
   "metadata": {},
   "source": [
    "## Import modules\n",
    "In Python external dependencies are usually called modules, to import them we will use `import moduleName`\n",
    "\n",
    "If you are interested in know more about Python or and additional modules you may need to install them, to do that Python have a command named `pip` to install external libraries (similar to `npm` in Javascript) that you can run in the Anaconda terminal.\n",
    "\n",
    "`conda install [name of library]`"
   ]
  },
  {
   "cell_type": "code",
   "execution_count": null,
   "metadata": {
    "scrolled": true
   },
   "outputs": [],
   "source": [
    "import math\n",
    "print(math.sqrt(2))\n",
    "import random\n",
    "print(random.random())"
   ]
  },
  {
   "cell_type": "markdown",
   "metadata": {},
   "source": [
    "## Errors\n",
    "Until now, all the code that we have executed have run correctly, but when we do more complex things, we can get execution errors. Now we are going to run code with errors to see what kind of errors can we found and how they look"
   ]
  },
  {
   "cell_type": "code",
   "execution_count": null,
   "metadata": {},
   "outputs": [],
   "source": [
    "# Name error\n",
    "# This error is usually caused by syntax errors\n",
    "print(var33)"
   ]
  },
  {
   "cell_type": "code",
   "execution_count": null,
   "metadata": {
    "scrolled": true
   },
   "outputs": [],
   "source": [
    "# Syntax error\n",
    "# Usually related with the variable types\n",
    "print(\"hello \" + 3)"
   ]
  },
  {
   "cell_type": "code",
   "execution_count": null,
   "metadata": {},
   "outputs": [],
   "source": [
    "# ZeroDivisionError\n",
    "print(1 / 0)"
   ]
  },
  {
   "cell_type": "code",
   "execution_count": null,
   "metadata": {},
   "outputs": [],
   "source": [
    "# IndexError\n",
    "# This happens when we try to access to a index out of bounds or an undefined index\n",
    "a = [1, 2]\n",
    "print(a[4])"
   ]
  },
  {
   "cell_type": "markdown",
   "metadata": {},
   "source": [
    "## Classes\n",
    "As Java and other object oriented languages, Python can use classes. These classes can be instantiated to create object of that class.\n",
    "\n",
    "https://docs.python.org/3/tutorial/classes.html"
   ]
  },
  {
   "cell_type": "code",
   "execution_count": null,
   "metadata": {},
   "outputs": [],
   "source": [
    "class Complex:\n",
    "    # The __init__ method is the constructor of the class\n",
    "    def __init__(self, realpart, imagpart):\n",
    "        self.r = realpart\n",
    "        self.i = imagpart\n",
    "    # All methods should declare first a parameter named self, which is the object itself\n",
    "    def mod(self):\n",
    "        return math.sqrt(self.r**2+self.i**2)\n",
    "\n",
    "c = Complex(1,2)\n",
    "print(c.r,c.i)\n",
    "print(c.mod())"
   ]
  },
  {
   "cell_type": "markdown",
   "metadata": {},
   "source": [
    "## Problems\n",
    "### Problem 1\n",
    "Design a method to calculate the cosine distance between two lists of floats ``x`` and ``y``. The cosine distance or cosine similarity is a measure of the angle between two vectors https://en.wikipedia.org/wiki/Cosine_similarity.\n",
    "\n",
    "$D =1-\\cos(\\theta) = 1-{\\mathbf{A} \\cdot \\mathbf{B} \\over \\|\\mathbf{A}\\| \\|\\mathbf{B}\\|} = 1-\\frac{ \\sum\\limits_{i=1}^{n}{A_i  B_i} }{ \\sqrt{\\sum\\limits_{i=1}^{n}{A_i^2}}  \\sqrt{\\sum\\limits_{i=1}^{n}{B_i^2}} } $"
   ]
  },
  {
   "cell_type": "code",
   "execution_count": null,
   "metadata": {},
   "outputs": [],
   "source": [
    "# Use this cell to write your code\n",
    "def cos_distance( x, y ):\n",
    "    return"
   ]
  },
  {
   "cell_type": "code",
   "execution_count": null,
   "metadata": {},
   "outputs": [],
   "source": [
    "# Try it\n",
    "print(cos_distance([1,2,3], [3,2,1]))"
   ]
  },
  {
   "cell_type": "markdown",
   "metadata": {},
   "source": [
    "### Problem 2\n",
    "Design a method that creates a dictionary with ``n`` vectors identified with keys ``v1, v2, ... vn``. The vectors should have dimension ``m`` and their components should be random numbers between 0 and 1 (these numbers can be generated with ``random.random()``)"
   ]
  },
  {
   "cell_type": "code",
   "execution_count": null,
   "metadata": {},
   "outputs": [],
   "source": [
    "# Use this cell to write your code\n",
    "def generate_vectors( n, m ):\n",
    "    return "
   ]
  },
  {
   "cell_type": "code",
   "execution_count": null,
   "metadata": {},
   "outputs": [],
   "source": [
    "# Try it\n",
    "print(generate_vectors(5, 3))"
   ]
  },
  {
   "cell_type": "markdown",
   "metadata": {},
   "source": [
    "### Problem 3\n",
    "Design a method that receives a dictionary of vectors and returns a matrix (list of lists) with the distance between each pair of vectors.\n",
    "\n",
    "```python\n",
    "vectors = {\"v1\": [], \"v2\": [], \"v3\": []}\n",
    "\n",
    "distances = [[cos_distance(v1,v1), cos_distance(v1,v2), cos_distance(v1,v3)],\n",
    "             [cos_distance(v2,v1), cos_distance(v2,v2), cos_distance(v2,v3)],\n",
    "             [cos_distance(v3,v1), cos_distance(v3,v2), cos_distance(v3,v3)]]\n",
    "```"
   ]
  },
  {
   "cell_type": "code",
   "execution_count": null,
   "metadata": {},
   "outputs": [],
   "source": [
    "# Use this cell to write your code\n",
    "def distance_matrix( vectors ):\n",
    "    return "
   ]
  },
  {
   "cell_type": "code",
   "execution_count": null,
   "metadata": {},
   "outputs": [],
   "source": [
    "# Try it\n",
    "print(distance_matrix( {\"v1\": [1,2,3], \"v2\": [2,3,1], \"v3\": [3,1,2]} ))"
   ]
  },
  {
   "cell_type": "markdown",
   "metadata": {},
   "source": [
    "### Problem 4\n",
    "Design a method that receives a matrix of numbers and return the minimum value"
   ]
  },
  {
   "cell_type": "code",
   "execution_count": null,
   "metadata": {},
   "outputs": [],
   "source": [
    "# Use this cell to write your code\n",
    "def get_min( distances ):\n",
    "    return"
   ]
  },
  {
   "cell_type": "code",
   "execution_count": null,
   "metadata": {},
   "outputs": [],
   "source": [
    "# Try it\n",
    "print(get_min([[.1,.2,.3],[.4,.5,.6],[.7,.8,.9]]))"
   ]
  },
  {
   "cell_type": "code",
   "execution_count": null,
   "metadata": {},
   "outputs": [],
   "source": [
    "# All together!\n",
    "\n",
    "# Generate 10 vectors of dimension 10\n",
    "vectors = generate_vectors(10, 10)\n",
    "\n",
    "# Calculate the distance between all vectors\n",
    "distances = distance_matrix(vectors)\n",
    "\n",
    "# Get the minimum distance\n",
    "min_dis = get_min(distances)\n",
    "\n",
    "print(min_dis)"
   ]
  },
  {
   "cell_type": "markdown",
   "metadata": {},
   "source": [
    "___\n",
    "# Pandas\n",
    "## Python Data Analysis Library\n",
    "pandas is an open source, BSD-licensed library providing high-performance, easy-to-use data structures and data analysis tools for the Python programming language.\n",
    "https://pandas.pydata.org/\n",
    "\n",
    "The basic data structure of Pandas is the dataframe. A dataframe is a collection of tabulated data, similar to a SQL table. Dataframes must always have an index column.\n",
    "\n",
    "The introductory guide of pandas covers more contents than those which we are going to use in this case, but it is recommended to give a quick view to it: https://pandas.pydata.org/docs/getting_started/overview.html\n",
    "\n",
    "__NumPy__ (http://www.numpy.org/) is the fundamental package for scientific computing with Python. It contains among other things:\n",
    "- a powerful N-dimensional array object\n",
    "- sophisticated (broadcasting) functions\n",
    "- tools for integrating C/C++ and Fortran code\n",
    "- useful linear algebra, Fourier transform, and random number capabilities\n",
    "\n",
    "Besides its obvious scientific uses, NumPy can also be used as an efficient multi-dimensional container of generic data. Arbitrary data-types can be defined. This allows NumPy to seamlessly and speedily integrate with a wide variety of databases.\n",
    "\n",
    "__Important functions__\n",
    "Some cells contains methods of functions that are going to be used in the next workshops. Those cells are marked with a comment like this 💥💥💥"
   ]
  },
  {
   "cell_type": "code",
   "execution_count": null,
   "metadata": {},
   "outputs": [],
   "source": [
    "import pandas as pd\n",
    "import numpy as np"
   ]
  },
  {
   "cell_type": "markdown",
   "metadata": {
    "collapsed": true
   },
   "source": [
    "### Load data\n",
    "We can load data into dataframes from different sources\n",
    "https://pandas.pydata.org/pandas-docs/stable/user_guide/io.html"
   ]
  },
  {
   "cell_type": "code",
   "execution_count": null,
   "metadata": {},
   "outputs": [],
   "source": [
    "# 💥💥💥\n",
    "trucks_data = [['9073 YGP', 130, 150, 200,  300],\n",
    "    ['3881 KCC', 130, 200, 245,  400],\n",
    "    ['1845 GDS', 130, 245, 250,  600],\n",
    "    ['8725 MHH', 130, 270, 245, 1300]]\n",
    "trucks = pd.DataFrame(trucks_data, columns = ['plate', 'max_cargo', 'height', 'width', 'length'])\n",
    "customers = pd.read_json(\"data/customers.json\")\n",
    "orders = pd.read_csv(\"data/orders.csv\")\n",
    "packages = pd.read_csv(\"data/packages.zip\")"
   ]
  },
  {
   "cell_type": "markdown",
   "metadata": {},
   "source": [
    "### Accesing the dataframe\n",
    "Evaluating a DataFrame variable its content will be displayed in table format"
   ]
  },
  {
   "cell_type": "code",
   "execution_count": null,
   "metadata": {
    "scrolled": true
   },
   "outputs": [],
   "source": [
    "trucks"
   ]
  },
  {
   "cell_type": "code",
   "execution_count": null,
   "metadata": {
    "scrolled": false
   },
   "outputs": [],
   "source": [
    "customers"
   ]
  },
  {
   "cell_type": "code",
   "execution_count": null,
   "metadata": {},
   "outputs": [],
   "source": [
    "orders"
   ]
  },
  {
   "cell_type": "code",
   "execution_count": null,
   "metadata": {},
   "outputs": [],
   "source": [
    "packages"
   ]
  },
  {
   "cell_type": "markdown",
   "metadata": {
    "collapsed": true
   },
   "source": [
    "### Index\n",
    "By default the index of a dataframe is a column with incrementing integers. "
   ]
  },
  {
   "cell_type": "code",
   "execution_count": null,
   "metadata": {},
   "outputs": [],
   "source": [
    "# Accessing the rows with index within the specified range\n",
    "orders[1:3]"
   ]
  },
  {
   "cell_type": "code",
   "execution_count": null,
   "metadata": {},
   "outputs": [],
   "source": [
    "# To get a single row we must use the method iloc\n",
    "orders.iloc[1]"
   ]
  },
  {
   "cell_type": "code",
   "execution_count": null,
   "metadata": {},
   "outputs": [],
   "source": [
    "# Getting the index column as a list\n",
    "orders.index"
   ]
  },
  {
   "cell_type": "markdown",
   "metadata": {
    "collapsed": true
   },
   "source": [
    "### Access to data column\n",
    "We can retrieve the columns data as if the dataframe was a dictionary"
   ]
  },
  {
   "cell_type": "code",
   "execution_count": null,
   "metadata": {},
   "outputs": [],
   "source": [
    "# 💥💥💥\n",
    "# Get a single column\n",
    "customers[\"province\"]\n",
    "# Or\n",
    "customers.province"
   ]
  },
  {
   "cell_type": "code",
   "execution_count": null,
   "metadata": {},
   "outputs": [],
   "source": [
    "# Get multiple columns (this returns a dataframe with the selected columns)\n",
    "customers[[\"lat\",\"lng\"]]"
   ]
  },
  {
   "cell_type": "code",
   "execution_count": null,
   "metadata": {
    "scrolled": true
   },
   "outputs": [],
   "source": [
    "# 💥💥💥\n",
    "# Get unique values from a column\n",
    "customers[\"province\"].unique()"
   ]
  },
  {
   "cell_type": "markdown",
   "metadata": {
    "collapsed": true
   },
   "source": [
    "### Describe data\n",
    "When we evaluate a dataframe, pandas will show a table with it contents. If there are many rows, it only shows the beginning and the end."
   ]
  },
  {
   "cell_type": "code",
   "execution_count": null,
   "metadata": {},
   "outputs": [],
   "source": [
    "packages"
   ]
  },
  {
   "cell_type": "markdown",
   "metadata": {},
   "source": [
    "We can use the method describe to know more about one column or the whole dataset. If the column has numerical values it will calculate some statistical measures like the average, the count, max or min. In the other hand, if the values are strings it will count the unique values and return the most repeated one."
   ]
  },
  {
   "cell_type": "code",
   "execution_count": null,
   "metadata": {},
   "outputs": [],
   "source": [
    "# 💥💥💥\n",
    "packages.describe()"
   ]
  },
  {
   "cell_type": "code",
   "execution_count": null,
   "metadata": {},
   "outputs": [],
   "source": [
    "packages[\"height\"].describe()"
   ]
  },
  {
   "cell_type": "code",
   "execution_count": null,
   "metadata": {},
   "outputs": [],
   "source": [
    "# 💥💥💥\n",
    "# List columns and their types\n",
    "customers.dtypes"
   ]
  },
  {
   "cell_type": "code",
   "execution_count": null,
   "metadata": {},
   "outputs": [],
   "source": [
    "# 💥💥💥\n",
    "# info() prints information about the dataframe including the index dtype and columns, non-null values and memory usage \n",
    "orders.info()"
   ]
  },
  {
   "cell_type": "markdown",
   "metadata": {},
   "source": [
    "### Searching data\n",
    "We will need to get the rows that matches some conditions, we will do that with the loc function"
   ]
  },
  {
   "cell_type": "code",
   "execution_count": null,
   "metadata": {},
   "outputs": [],
   "source": [
    "# 💥💥💥\n",
    "# Searching all packages smaller than 100cm\n",
    "packages.loc[packages[\"height\"]<100]"
   ]
  },
  {
   "cell_type": "code",
   "execution_count": null,
   "metadata": {},
   "outputs": [],
   "source": [
    "# Searching for customers name contains the string 'Ruiz'\n",
    "customers.loc[customers[\"name\"].str.contains(\"S.A.\")]"
   ]
  },
  {
   "cell_type": "markdown",
   "metadata": {},
   "source": [
    "### Filtering\n",
    "Some times we will need to filer our data: discard empty values, keep only variables in a range, etc"
   ]
  },
  {
   "cell_type": "code",
   "execution_count": null,
   "metadata": {},
   "outputs": [],
   "source": [
    "# We can perform boolean operations with columns that returns a column of boolean values \n",
    "# These boolean columns are called masks\n",
    "packages[\"width\"]<120"
   ]
  },
  {
   "cell_type": "code",
   "execution_count": null,
   "metadata": {},
   "outputs": [],
   "source": [
    "# We will use those columns to filter our data\n",
    "packages_filtered = packages[packages[\"width\"]<120]"
   ]
  },
  {
   "cell_type": "code",
   "execution_count": null,
   "metadata": {},
   "outputs": [],
   "source": [
    "# To filter by the contents of a strings column\n",
    "customers[customers.province.str.contains(\"ia\")]"
   ]
  },
  {
   "cell_type": "markdown",
   "metadata": {},
   "source": [
    "### Modifing data in a column"
   ]
  },
  {
   "cell_type": "code",
   "execution_count": null,
   "metadata": {},
   "outputs": [],
   "source": [
    "# 💥💥💥\n",
    "# We can apply a method to each value in a column\n",
    "def to_inches(x):\n",
    "    return x * 0.393701\n",
    "print(\"Original\")\n",
    "print(packages[\"width\"])\n",
    "print(\"Modified\")\n",
    "# Apply and the name of the method we want to execute over each value\n",
    "print(packages[\"width\"].apply(to_inches))"
   ]
  },
  {
   "cell_type": "code",
   "execution_count": null,
   "metadata": {},
   "outputs": [],
   "source": [
    "# ADVANCED\n",
    "# We can do the same by using lambdas\n",
    "print(packages[\"width\"].apply(lambda x: x * 0.393701))"
   ]
  },
  {
   "cell_type": "markdown",
   "metadata": {},
   "source": [
    "### Creating new columns"
   ]
  },
  {
   "cell_type": "code",
   "execution_count": null,
   "metadata": {},
   "outputs": [],
   "source": [
    "def is_big(x):\n",
    "    if x > 150:\n",
    "        return True\n",
    "    else:\n",
    "        return False\n",
    "packages[\"big\"] = packages.height.apply(is_big)"
   ]
  },
  {
   "cell_type": "code",
   "execution_count": null,
   "metadata": {},
   "outputs": [],
   "source": [
    "# 💥💥💥\n",
    "# We can use apply method over the row with the parameter \"axis=1\"\n",
    "def volume(x):\n",
    "    return x.height * x.length * x.width\n",
    "packages[\"volume\"] = packages.apply(volume, axis=1)"
   ]
  },
  {
   "cell_type": "markdown",
   "metadata": {},
   "source": [
    "# Rename columns"
   ]
  },
  {
   "cell_type": "code",
   "execution_count": null,
   "metadata": {},
   "outputs": [],
   "source": [
    "# The parameter columns is a dictionary with the old names as keys and new names as values\n",
    "\n",
    "# Most of the methods that modifies the dataframes do not change the dataframe itself, \n",
    "# instead they return a copy of it with the modification applied\n",
    "orders.rename(columns={\"VAT_number\":\"client_VAT\"})"
   ]
  },
  {
   "cell_type": "markdown",
   "metadata": {
    "collapsed": true
   },
   "source": [
    "### Group by\n",
    "We can execute group by orders similar to SQL.\n",
    "\n",
    "https://pandas.pydata.org/pandas-docs/stable/user_guide/groupby.html"
   ]
  },
  {
   "cell_type": "code",
   "execution_count": null,
   "metadata": {},
   "outputs": [],
   "source": [
    "# 💥💥💥\n",
    "# Group by publication name and counting the number of values for each column\n",
    "packages.groupby(packages[\"order_id\"]).count()\n",
    "# There are many predefined aggregating functions like: first,last, median, sum, mean, max, min, etc"
   ]
  },
  {
   "cell_type": "markdown",
   "metadata": {
    "collapsed": true
   },
   "source": [
    "### Join dataframes\n",
    "There are methods to perform joins of two or more dataframes, the basic one (we only need this one in these workshops) is the method `merge`.\n",
    "\n",
    "Just for curisosity the guide of all join types can be glanced thorugh: https://pandas.pydata.org/pandas-docs/stable/user_guide/merging.html"
   ]
  },
  {
   "cell_type": "code",
   "execution_count": null,
   "metadata": {
    "scrolled": false
   },
   "outputs": [],
   "source": [
    "# 💥💥💥\n",
    "# Merge both dataframes\n",
    "data = orders.merge(packages, on=\"order_id\").merge(customers, on=\"VAT_number\")\n",
    "\n",
    "data"
   ]
  },
  {
   "cell_type": "markdown",
   "metadata": {},
   "source": [
    "### Save data\n",
    "Saving a dataframe is quite similar to load data, we will use the methods ``dataframe.to_csv(filename)`` or ``dataframe.to_json(filename)``"
   ]
  },
  {
   "cell_type": "code",
   "execution_count": null,
   "metadata": {},
   "outputs": [],
   "source": [
    "data.to_json(\"data/data.json\")"
   ]
  },
  {
   "cell_type": "markdown",
   "metadata": {},
   "source": [
    "## Problems\n",
    "### Problem 1\n",
    "Calculate the number of trucks and customers"
   ]
  },
  {
   "cell_type": "code",
   "execution_count": null,
   "metadata": {},
   "outputs": [],
   "source": []
  },
  {
   "cell_type": "markdown",
   "metadata": {},
   "source": [
    "### Problem 2\n",
    "Count the number of different provinces that appear in the customers dataframe"
   ]
  },
  {
   "cell_type": "code",
   "execution_count": null,
   "metadata": {},
   "outputs": [],
   "source": []
  },
  {
   "cell_type": "markdown",
   "metadata": {},
   "source": [
    "### Problem 3\n",
    "Plot the top10 heaviest packages (tip: you can use the method `sort_values` https://pandas.pydata.org/pandas-docs/stable/reference/api/pandas.DataFrame.sort_values.html)"
   ]
  },
  {
   "cell_type": "code",
   "execution_count": null,
   "metadata": {},
   "outputs": [],
   "source": []
  },
  {
   "cell_type": "markdown",
   "metadata": {},
   "source": [
    "___\n",
    "# Matplotlib and Seaborn\n",
    "\n",
    "__Matplotlib__ (https://matplotlib.org/) is a Python 2D plotting library which produces publication quality figures in a variety of hardcopy formats and interactive environments across platforms.\n",
    "\n",
    "__Seaborn__ (https://seaborn.pydata.org/) is a Python library built on top of Matplotlib which offers an easy interface to create plots using dataframes."
   ]
  },
  {
   "cell_type": "code",
   "execution_count": null,
   "metadata": {},
   "outputs": [],
   "source": [
    "# To import these libraries we use these lines\n",
    "import matplotlib.pyplot as plt\n",
    "import seaborn as sns"
   ]
  },
  {
   "cell_type": "code",
   "execution_count": null,
   "metadata": {},
   "outputs": [],
   "source": [
    "# 💥💥💥\n",
    "# To create a new figure, we are going to use always the next steps\n",
    "# Note that the method returns 2 values, fig and ax, this can be usually found in python\n",
    "fig, ax = plt.subplots(nrows=2,ncols=2,figsize=(7,5))\n",
    "# The three parameters, nrows, ncols and figsize are optionaly defined\n",
    "# We can define a matrix of subplots by changing the values of nrows and ncols\n",
    "# We can modify the size of the matrix with the arguments of figsize\n",
    "# If we don't specify this parameter, the figure will have the minimum size to fit all the drawings\n",
    "\n",
    "# Here we will define the charts, labels, grid, etc\n",
    "\n",
    "# Finally we should tell matplotlib to show the figure we have defined\n",
    "plt.show(fig)"
   ]
  },
  {
   "cell_type": "code",
   "execution_count": null,
   "metadata": {},
   "outputs": [],
   "source": [
    "# Variable ax is a numpy array with all the subplots that we define\n",
    "# We can access to each subplot by its coordinates\n",
    "ax[0,0] # This is the same as ax[0][0]"
   ]
  },
  {
   "cell_type": "code",
   "execution_count": null,
   "metadata": {},
   "outputs": [],
   "source": [
    "fig, ax = plt.subplots(nrows=2,ncols=2,figsize=(7,5))\n",
    "\n",
    "# Sample function\n",
    "t = np.arange(0.0, 2.0, 0.01)\n",
    "s = 1 + np.sin(2 * np.pi * t)\n",
    "\n",
    "# To plot a line in a certain subplot we can use\n",
    "ax[0,0].plot(t,s) # t are the horizontal values and s the vertical ones\n",
    "ax[1,0].plot(s,'g') # If we define only one series it will be taken as the vertical values\n",
    "# We can define de color of a plot after the values of the line\n",
    "\n",
    "plt.show(fig)"
   ]
  },
  {
   "cell_type": "markdown",
   "metadata": {},
   "source": [
    "## Plots with Matplotlib\n",
    "There are a huge number of different plots available in matplotlib, we are going to see the most basic ones\n",
    "https://matplotlib.org/api/axes_api.html#plotting\n",
    "\n",
    "### Line plot\n",
    "https://matplotlib.org/api/_as_gen/matplotlib.axes.Axes.plot.html?highlight=plot#matplotlib.axes.Axes.plot\n",
    "\n",
    "We can define a string after de data to modify the style of the line which will be plotted. This strings are defined in this way ``'[color][marker][line style]``, for example ``'b--'`` is a dashed blue line or ``'ro'`` is a sequence of red circles.\n"
   ]
  },
  {
   "cell_type": "code",
   "execution_count": null,
   "metadata": {},
   "outputs": [],
   "source": [
    "fig, ax = plt.subplots(figsize=(7,5))\n",
    "\n",
    "# Plot\n",
    "ax.plot(t,s) \n",
    "ax.plot(t,2*s,'g--') # We can plot several lines in the same chart\n",
    "ax.plot(t,4*s,'r,')\n",
    "\n",
    "plt.show(fig)"
   ]
  },
  {
   "cell_type": "markdown",
   "metadata": {},
   "source": [
    "### Bar plot\n",
    "https://matplotlib.org/api/_as_gen/matplotlib.pyplot.bar.html"
   ]
  },
  {
   "cell_type": "code",
   "execution_count": null,
   "metadata": {},
   "outputs": [],
   "source": [
    "fig, ax = plt.subplots(figsize=(7,5))\n",
    "\n",
    "# Sample data about programing language popularity\n",
    "x = [\"Python\", \"Java\", \"Javascript\", \"C#\", \"PHP\"]\n",
    "y = [25.13,21.98,8.35,7.5,7.36]\n",
    "\n",
    "# Plot\n",
    "ax.bar(x,y) \n",
    "\n",
    "plt.show(fig)"
   ]
  },
  {
   "cell_type": "markdown",
   "metadata": {},
   "source": [
    "### Scatter plot\n",
    "https://matplotlib.org/api/_as_gen/matplotlib.axes.Axes.scatter.html#matplotlib.axes.Axes.scatter"
   ]
  },
  {
   "cell_type": "code",
   "execution_count": null,
   "metadata": {},
   "outputs": [],
   "source": [
    "fig, ax = plt.subplots(figsize=(7,5))\n",
    "\n",
    "# Sample data\n",
    "x = np.arange(0, 10, .1)\n",
    "y = (x+np.random.rand(100))**2\n",
    "\n",
    "# Plot\n",
    "ax.scatter(x,y) \n",
    "ax.scatter(x,-y)\n",
    "\n",
    "plt.show(fig)"
   ]
  },
  {
   "cell_type": "markdown",
   "metadata": {},
   "source": [
    "### Histogram plot\n",
    "https://matplotlib.org/api/_as_gen/matplotlib.pyplot.hist.html#matplotlib.pyplot.hist"
   ]
  },
  {
   "cell_type": "code",
   "execution_count": null,
   "metadata": {
    "scrolled": true
   },
   "outputs": [],
   "source": [
    "fig, ax = plt.subplots(figsize=(7,5))\n",
    "\n",
    "# Sample data\n",
    "marks = [5.9, 7.9, 7.4, 6.2, 5.7, 8.3, 6  , 6.4, 8.1, 7.1, 5.7, 6.8, 6.2, 6.9, 7.2, 6.8, 7.3, 8.3, 5.3, 7.2, 5.8, \n",
    "         5.3, 6.8, 6.9, 5.5, 5.6, 7.7, 8.4, 6.5, 4.4, 6.8, 9.3, 5.7, 9.5, 7.1, 5.9, 8.2, 9  , 6.6, 6.8, 4.9, 6.9, \n",
    "         6.2, 6.8, 9.1, 5.8, 7.3, 4.7, 7.4, 3.1, 8.5, 7.9, 5.8, 7.9, 5.1, 5.2, 7.8, 6.3, 6.5, 5.3, 7.5, 6.8, 6.6, \n",
    "         6.7, 7.8, 7.6, 10 , 5.8, 8.1, 7.8, 8.5, 5.4, 8.1, 3.6, 6  , 8  , 6.1, 4.9, 6.3, 5.2, 7.3, 7  , 6.7, 5.9, \n",
    "         4.2, 5.2, 8.5, 9.2, 7.1, 8.7, 6.6, 8  , 6.9, 5  , 5.9, 8.1, 7  , 8.2, 7.7, 4.2]\n",
    "\n",
    "# Plot\n",
    "ax.hist(marks)\n",
    "\n",
    "plt.show(fig)"
   ]
  },
  {
   "cell_type": "markdown",
   "metadata": {},
   "source": [
    "## Axes modifications and labels\n",
    "\n",
    "If we do not configure anything, matplotlib will generate the axes scales just big enough to fit the data. But in sometimes we may want to define a certain range (eg. if we are plotting exams marks, we may want to plot form 0 to 10 in the horizontal axe) or we may want to use a different precission.\n",
    "\n",
    "In addition, is a good practice to include labels in both axes and a title over the chart"
   ]
  },
  {
   "cell_type": "code",
   "execution_count": null,
   "metadata": {},
   "outputs": [],
   "source": [
    "fig, ax = plt.subplots(figsize=(7,5))\n",
    "\n",
    "ax.hist(marks)\n",
    "\n",
    "# We can specify the ranges of bot axes\n",
    "ax.set_xlim(0, 10)\n",
    "ax.set_ylim(0, 30)\n",
    "\n",
    "# We can also specify the divisions of the axes\n",
    "ax.set_yticks(np.arange(0,32,2))\n",
    "\n",
    "# Activate the grid\n",
    "ax.grid()\n",
    "\n",
    "# Set a title\n",
    "ax.set_title(\"Histogram of last exam's marks\")\n",
    "\n",
    "# Set axes labels\n",
    "ax.set_xlabel(\"Grade\")\n",
    "ax.set_ylabel(\"Number of students\")\n",
    "\n",
    "plt.show(fig)"
   ]
  },
  {
   "cell_type": "markdown",
   "metadata": {},
   "source": [
    "## Exporting images\n",
    "We can export our images to use them anywhere. It is always suggested to use vector formats (like svg or eps) if it is possible."
   ]
  },
  {
   "cell_type": "code",
   "execution_count": null,
   "metadata": {},
   "outputs": [],
   "source": [
    "# We specify the file name and the format\n",
    "# bbox_inches='tight' removes the margins in the image\n",
    "fig.savefig(\"marksHistogram.pdf\", bbox_inches='tight')"
   ]
  },
  {
   "cell_type": "markdown",
   "metadata": {},
   "source": [
    "## Plotting with Seaborn\n",
    "Seaborn can be used in a similar way to matplotlib, by creating a figure and then plotting something on it."
   ]
  },
  {
   "cell_type": "code",
   "execution_count": null,
   "metadata": {},
   "outputs": [],
   "source": [
    "# 💥💥💥\n",
    "fig, ax = plt.subplots(figsize=(7,5))\n",
    "\n",
    "# The parameter 'data' defines the dataframe used to generate the chart\n",
    "# We need to indicate which columns will be used in each axis. 'x' and 'y' in this case\n",
    "# To use the figure we will set the parameter 'ax' equal to the axis we have just defined\n",
    "sns.scatterplot(data=customers, x=\"lat\",y=\"lng\", ax=ax)"
   ]
  },
  {
   "cell_type": "markdown",
   "metadata": {},
   "source": [
    "## Categorical plots"
   ]
  },
  {
   "cell_type": "code",
   "execution_count": null,
   "metadata": {},
   "outputs": [],
   "source": [
    "fig, ax = plt.subplots(figsize=(15,7))\n",
    "\n",
    "# countplot displays a bar chart with the sample's count of each category\n",
    "sns.countplot(data=orders, y='VAT_number', ax=ax)"
   ]
  },
  {
   "cell_type": "markdown",
   "metadata": {},
   "source": [
    "## Distribution plots"
   ]
  },
  {
   "cell_type": "code",
   "execution_count": null,
   "metadata": {},
   "outputs": [],
   "source": [
    "data"
   ]
  },
  {
   "cell_type": "code",
   "execution_count": null,
   "metadata": {},
   "outputs": [],
   "source": [
    "fig, ax = plt.subplots(nrows=2, figsize=(14,12))\n",
    "\n",
    "# histplot creates an histogram of the indicated column\n",
    "sns.histplot(data=data, x=\"volume\", ax=ax[0], bins=50)\n",
    "\n",
    "# boxplots are used to \n",
    "# With the 'hue' parameter\n",
    "sns.boxplot(data=data, y=\"province\", x=\"weight\", ax=ax[1], hue=\"big\")"
   ]
  },
  {
   "cell_type": "markdown",
   "metadata": {},
   "source": [
    "## Relation plots"
   ]
  },
  {
   "cell_type": "code",
   "execution_count": null,
   "metadata": {
    "scrolled": false
   },
   "outputs": [],
   "source": [
    "fig, ax = plt.subplots(ncols=2, figsize=(14,6))\n",
    "\n",
    "# Regplot \n",
    "sns.regplot(x=\"width\",y=\"volume\",data=packages, ax=ax[0])\n",
    "\n",
    "# \n",
    "sns.scatterplot(data=packages, x=\"width\", y=\"height\", size=\"volume\", ax=ax[1])"
   ]
  },
  {
   "cell_type": "markdown",
   "metadata": {},
   "source": [
    "## Problems\n",
    "\n",
    "### Problem 1\n",
    "Generate a list of vectors with the method `generate_vectors` that we previously coded. Plot one chart for each vector; each of those charts should be a bar chart with the distances to the other vectors (tip: use the method `distance_matrix`)"
   ]
  },
  {
   "cell_type": "code",
   "execution_count": null,
   "metadata": {},
   "outputs": [],
   "source": [
    "# Use this cell to write your code"
   ]
  },
  {
   "cell_type": "markdown",
   "metadata": {},
   "source": [
    "### Problem 2\n",
    "Combine two kinds of charts (line, bars, scatter, etc) in one plot"
   ]
  },
  {
   "cell_type": "code",
   "execution_count": null,
   "metadata": {
    "scrolled": true
   },
   "outputs": [],
   "source": [
    "# Use this cell to write your code"
   ]
  }
 ],
 "metadata": {
  "celltoolbar": "Raw Cell Format",
  "kernelspec": {
   "display_name": "Python 3",
   "language": "python",
   "name": "python3"
  },
  "language_info": {
   "codemirror_mode": {
    "name": "ipython",
    "version": 3
   },
   "file_extension": ".py",
   "mimetype": "text/x-python",
   "name": "python",
   "nbconvert_exporter": "python",
   "pygments_lexer": "ipython3",
   "version": "3.8.5"
  }
 },
 "nbformat": 4,
 "nbformat_minor": 2
}
